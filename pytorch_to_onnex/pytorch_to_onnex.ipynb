{
 "nbformat": 4,
 "nbformat_minor": 0,
 "metadata": {
  "colab": {
   "provenance": [],
   "gpuType": "T4",
   "mount_file_id": "1gV6rViE7bOyDQ-mJrd4OaMokgxAunHle",
   "authorship_tag": "ABX9TyPmuwXSY+ZvwPpckXZZb1ly"
  },
  "kernelspec": {
   "name": "python3",
   "display_name": "Python 3"
  },
  "language_info": {
   "name": "python"
  },
  "accelerator": "GPU"
 },
 "cells": [
  {
   "cell_type": "code",
   "execution_count": 2,
   "metadata": {
    "colab": {
     "base_uri": "https://localhost:8080/"
    },
    "id": "PheZQSSY4PAJ",
    "executionInfo": {
     "status": "ok",
     "timestamp": 1712147098119,
     "user_tz": -540,
     "elapsed": 10306,
     "user": {
      "displayName": "민병철",
      "userId": "07158953855349107531"
     }
    },
    "outputId": "143d3f88-5be2-4bce-f619-95493a22ffc3"
   },
   "outputs": [
    {
     "output_type": "stream",
     "name": "stdout",
     "text": [
      "Collecting onnx\n",
      "  Downloading onnx-1.16.0-cp310-cp310-manylinux_2_17_x86_64.manylinux2014_x86_64.whl (15.9 MB)\n",
      "\u001B[2K     \u001B[90m━━━━━━━━━━━━━━━━━━━━━━━━━━━━━━━━━━━━━━━━\u001B[0m \u001B[32m15.9/15.9 MB\u001B[0m \u001B[31m43.6 MB/s\u001B[0m eta \u001B[36m0:00:00\u001B[0m\n",
      "\u001B[?25hRequirement already satisfied: numpy>=1.20 in /usr/local/lib/python3.10/dist-packages (from onnx) (1.25.2)\n",
      "Requirement already satisfied: protobuf>=3.20.2 in /usr/local/lib/python3.10/dist-packages (from onnx) (3.20.3)\n",
      "Installing collected packages: onnx\n",
      "Successfully installed onnx-1.16.0\n"
     ]
    }
   ],
   "source": [
    "!pip3 install onnx"
   ]
  },
  {
   "cell_type": "code",
   "source": [
    "from transformers import AutoTokenizer, BertForSequenceClassification\n",
    "import torch\n",
    "import numpy as np\n",
    "\n",
    "\n",
    "device = torch.device('cuda')\n",
    "model = BertForSequenceClassification.from_pretrained(\"beomi/kcbert-base\", num_labels=11).to(device)\n",
    "model_path = 'pytorch_model_path'\n",
    "model.load_state_dict(torch.load(model_path))\n",
    "\n",
    "max_length = 300\n",
    "input_ids = torch.as_tensor(np.ones([1, max_length]), dtype=torch.long).cuda()\n",
    "attention_mask = torch.as_tensor(np.ones([1, max_length]), dtype=torch.long).cuda()\n",
    "token_type_ids = torch.as_tensor(np.ones([1, max_length]), dtype=torch.long).cuda()\n",
    "\n",
    "dynamic_axes = {\n",
    "    'input_ids': {0 : 'batch_size'},\n",
    "    'attention_mask': {0 : 'batch_size'},\n",
    "    'token_type_ids': {0 : 'batch_size'},\n",
    "    'outputs': {0 : 'batch_size'}\n",
    "}\n",
    "torch.onnx.export(\n",
    "    model,\n",
    "    (input_ids, attention_mask, token_type_ids),\n",
    "    'onnex model save path',\n",
    "    input_names=['input_ids', 'attention_mask', 'token_type_ids'],\n",
    "    output_names=['outputs'],\n",
    "    dynamic_axes=dynamic_axes,\n",
    "    opset_version=15)"
   ],
   "metadata": {
    "colab": {
     "base_uri": "https://localhost:8080/"
    },
    "id": "2cYKicqT5RC-",
    "executionInfo": {
     "status": "ok",
     "timestamp": 1712147109292,
     "user_tz": -540,
     "elapsed": 11178,
     "user": {
      "displayName": "민병철",
      "userId": "07158953855349107531"
     }
    },
    "outputId": "906be5ff-c1b5-4e5d-d319-48c911c7b4e4"
   },
   "execution_count": 3,
   "outputs": [
    {
     "output_type": "stream",
     "name": "stderr",
     "text": [
      "Some weights of BertForSequenceClassification were not initialized from the model checkpoint at beomi/kcbert-base and are newly initialized: ['classifier.bias', 'classifier.weight']\n",
      "You should probably TRAIN this model on a down-stream task to be able to use it for predictions and inference.\n"
     ]
    }
   ]
  },
  {
   "cell_type": "code",
   "source": [],
   "metadata": {
    "id": "sd0ue6G56Rgs"
   },
   "execution_count": null,
   "outputs": []
  }
 ]
}
